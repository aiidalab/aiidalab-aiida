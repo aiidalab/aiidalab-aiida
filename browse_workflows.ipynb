{
 "cells": [
  {
   "cell_type": "markdown",
   "metadata": {},
   "source": [
    "# Browse Workflows"
   ]
  },
  {
   "cell_type": "code",
   "execution_count": null,
   "metadata": {
    "scrolled": false
   },
   "outputs": [],
   "source": [
    "from aiida import load_dbenv, is_dbenv_loaded\n",
    "from aiida.backends import settings\n",
    "if not is_dbenv_loaded():\n",
    "    load_dbenv(profile=settings.AIIDADB_PROFILE)\n",
    "    \n",
    "from aiida.orm.querybuilder import QueryBuilder\n",
    "from aiida.orm.calculation.work import WorkCalculation\n",
    "from aiida.work.run import run, async, submit\n",
    "from aiida.common.links import LinkType\n",
    "\n",
    "import ipywidgets as ipw\n",
    "import datetime\n",
    "from pprint import pprint\n",
    "from base64 import b64decode\n",
    "from collections import OrderedDict\n",
    "from IPython.display import display, clear_output, Image\n",
    "\n",
    "# needed for resubmission\n",
    "from apps.surfaces.nanoribbon.nanoribbonwork import NanoribbonWorkChain\n",
    "from apps.surfaces.slab.slabwork import SlabGeoOptWorkChain"
   ]
  },
  {
   "cell_type": "code",
   "execution_count": null,
   "metadata": {},
   "outputs": [],
   "source": [
    "%%javascript\n",
    "IPython.OutputArea.prototype._should_scroll = function(lines) {\n",
    "    return false;\n",
    "}"
   ]
  },
  {
   "cell_type": "code",
   "execution_count": null,
   "metadata": {},
   "outputs": [],
   "source": [
    "# Find all names\n",
    "qb_names = QueryBuilder()\n",
    "qb_names.append(WorkCalculation,\n",
    "          project=\"attributes._process_label\",\n",
    "          filters={\n",
    "              'attributes': {'!has_key': 'source_code'}\n",
    "          }\n",
    "          )\n",
    "qb_names.order_by({WorkCalculation:{'ctime':'desc'}})\n",
    "process_labels = []\n",
    "for i in qb_names.all():\n",
    "    if i[0] not in process_labels:\n",
    "        process_labels.append(i[0])"
   ]
  },
  {
   "cell_type": "code",
   "execution_count": null,
   "metadata": {
    "scrolled": false
   },
   "outputs": [],
   "source": [
    "# preprocessing\n",
    "qb = QueryBuilder()\n",
    "qb.append(WorkCalculation, filters={'extras': {'!has_key': 'resubmitted'}})\n",
    "for n in qb.all():\n",
    "    n[0].set_extra('resubmitted', False)\n",
    "\n",
    "qb = QueryBuilder()\n",
    "qb.append(WorkCalculation, filters={'extras': {'!has_key': 'obsolete'}})\n",
    "for n in qb.all():\n",
    "    n[0].set_extra('obsolete', False)"
   ]
  },
  {
   "cell_type": "code",
   "execution_count": null,
   "metadata": {
    "scrolled": false
   },
   "outputs": [],
   "source": [
    "def on_search(b):\n",
    "    update_search()\n",
    "\n",
    "style = {'description_width': '120px'}\n",
    "\n",
    "# Date range\n",
    "date_start = ipw.Text(value='',\n",
    "                      description='From: ',\n",
    "                      style=style)\n",
    "\n",
    "date_end = ipw.Text(value='',\n",
    "                    description='To: ')\n",
    "\n",
    "date_text = ipw.HTML(value='<p>Select the date range:</p>')\n",
    "\n",
    "age_selection = ipw.VBox([date_text, ipw.HBox([date_start, date_end])],\n",
    "                         layout={'border': '1px solid #fafafa', 'padding': '1em'})\n",
    "\n",
    "# States\n",
    "state_select = ipw.RadioButtons(options=['new', 'succeed', 'failed', 'resubmitted', 'obsolete', 'all'],\n",
    "                                value='all',\n",
    "                                description='State:',\n",
    "                                style=style,\n",
    "                                layout={'border': '1px solid #fafafa', 'padding': '1em', 'width': '100%'})\n",
    "\n",
    "# Labels\n",
    "drop_label = ipw.Dropdown(options=(['All',] + process_labels),\n",
    "                          value='All',\n",
    "                          description='Process Label',\n",
    "                          style=style)\n",
    "\n",
    "button_search = ipw.Button(description='Search',)\n",
    "button_search.on_click(on_search)\n",
    "display(age_selection,\n",
    "        state_select,\n",
    "        ipw.HBox([drop_label,],\n",
    "                 layout={'border': '1px solid #fafafa', 'padding': '1em'}),\n",
    "        button_search)"
   ]
  },
  {
   "cell_type": "code",
   "execution_count": null,
   "metadata": {
    "scrolled": false
   },
   "outputs": [],
   "source": [
    "def update_search():\n",
    "    wf_select.options = {\"Searching...\": False}\n",
    "    \n",
    "    try: # If the date range is valid, use it for the search\n",
    "        start_date = datetime.datetime.strptime(date_start.value, '%Y-%m-%d')\n",
    "        end_date = datetime.datetime.strptime(date_end.value, '%Y-%m-%d') + datetime.timedelta(hours=24)\n",
    "    except ValueError: # Otherwise revert to the standard (i.e. last 7 days)\n",
    "        dt_now = datetime.datetime.now()\n",
    "        dt_start = dt_now - datetime.timedelta(days=7)\n",
    "\n",
    "        date_start.value = dt_start.strftime('%Y-%m-%d')\n",
    "        date_end.value = dt_now.strftime('%Y-%m-%d')\n",
    "        \n",
    "        start_date = datetime.datetime.strptime(date_start.value, '%Y-%m-%d')\n",
    "        end_date = datetime.datetime.strptime(date_end.value, '%Y-%m-%d') + datetime.timedelta(hours=24)\n",
    "\n",
    "    filters = {}\n",
    "    filters['ctime'] = {'and':[{'<=': end_date},{'>': start_date}]}\n",
    "    filters['attributes'] = {'!has_key': 'source_code'} # exclude workfunctions\n",
    "    \n",
    "    # States\n",
    "    if state_select.value == 'new':\n",
    "        filters['extras'] = {'!has_key': 'preprocess_successful'}\n",
    "\n",
    "    elif state_select.value == 'succeed':\n",
    "        filters['extras.preprocess_successful'] = True\n",
    "        filters['extras.obsolete'] = False\n",
    "\n",
    "    elif state_select.value == 'failed':\n",
    "        filters['extras.preprocess_successful'] = False\n",
    "        filters['extras.resubmitted'] = False\n",
    "\n",
    "    elif state_select.value == r'resubmitted':\n",
    "        filters['extras.resubmitted'] = True\n",
    "\n",
    "    elif state_select.value == r'obsolete':\n",
    "        filters['extras.obsolete'] = True\n",
    "\n",
    "    else:\n",
    "        assert state_select.value == 'all'\n",
    "    \n",
    "    # Label\n",
    "    if drop_label.value != 'All':\n",
    "        filters['attributes._process_label'] = drop_label.value\n",
    "    \n",
    "    qb = QueryBuilder()\n",
    "    qb.append(WorkCalculation, filters=filters)\n",
    "    qb.order_by({WorkCalculation:{'ctime':'desc'}})\n",
    "    \n",
    "    options = OrderedDict()\n",
    "    for n in qb.iterall():\n",
    "        n = n[0]\n",
    "        ctime = n.ctime.strftime(\"%Y-%m-%d %H:%M\")\n",
    "        nsteps = len(n.get_outputs())\n",
    "        label = \"PK %d; %s; %s; steps: %d\" %(n.pk, ctime, n.get_attr(\"_process_label\"), nsteps)\n",
    "        if \"structure\" in n.get_inputs_dict():\n",
    "            s = n.inp.structure\n",
    "            label += \"   structure: PK: %s %s\"%(s.pk, s.description)\n",
    "        options[label] = n\n",
    "    wf_select.options = options\n",
    "    wf_select.value = options.values()[0] if options else None"
   ]
  },
  {
   "cell_type": "code",
   "execution_count": null,
   "metadata": {
    "scrolled": false
   },
   "outputs": [],
   "source": [
    "def on_wf_changed(c):\n",
    "    update_wf()\n",
    "\n",
    "wf_select = ipw.Select(layout=ipw.Layout(height=\"300px\", width=\"900px\"))\n",
    "wf_select.observe(on_wf_changed, names='value')\n",
    "display(wf_select)"
   ]
  },
  {
   "cell_type": "code",
   "execution_count": null,
   "metadata": {
    "scrolled": false
   },
   "outputs": [],
   "source": [
    "def on_kill_clicked(b):\n",
    "    kill_wf(wf_select.value)\n",
    "\n",
    "def on_resub_clicked(b):\n",
    "    resubmit_wf(wf_select.value)\n",
    "    update_search()\n",
    "\n",
    "def on_toggle_resubmitted_clicked(b):\n",
    "    state = wf_select.value.get_extra('resubmitted')\n",
    "    wf_select.value.set_extra('resubmitted', not state)\n",
    "    update_search()\n",
    "\n",
    "def on_toggle_obsolete_clicked(b):\n",
    "    state = wf_select.value.get_extra('obsolete')\n",
    "    wf_select.value.set_extra('obsolete', not state)\n",
    "    update_search()\n",
    "\n",
    "def on_refresh_clicked(b):\n",
    "    update_search()\n",
    "\n",
    "btn_kill = ipw.Button(description=\"Kill Workflow\")\n",
    "btn_kill.on_click(on_kill_clicked)\n",
    "\n",
    "btn_resub = ipw.Button(description=\"Resubmit Workflow\")\n",
    "btn_resub.on_click(on_resub_clicked)\n",
    "\n",
    "btn_toggle_resub = ipw.Button(description=\"Toggle resubmitted\")\n",
    "btn_toggle_resub.on_click(on_toggle_resubmitted_clicked)\n",
    "\n",
    "btn_toggle_obsolete = ipw.Button(description=\"Toggle obsolete\")\n",
    "btn_toggle_obsolete.on_click(on_toggle_obsolete_clicked)\n",
    "\n",
    "refresh_btn = ipw.Button(description=\"Refresh\")\n",
    "refresh_btn.on_click(on_refresh_clicked)\n",
    "\n",
    "btn_box = ipw.HBox([btn_kill, btn_resub, btn_toggle_resub, btn_toggle_obsolete, refresh_btn])\n",
    "display(btn_box)"
   ]
  },
  {
   "cell_type": "code",
   "execution_count": null,
   "metadata": {},
   "outputs": [],
   "source": [
    "progress = ipw.IntProgress(description=\"Loading...\", max=100)\n",
    "display(progress)"
   ]
  },
  {
   "cell_type": "code",
   "execution_count": null,
   "metadata": {
    "scrolled": false
   },
   "outputs": [],
   "source": [
    "wf_out = ipw.Output()\n",
    "display(wf_out)"
   ]
  },
  {
   "cell_type": "code",
   "execution_count": null,
   "metadata": {
    "scrolled": false
   },
   "outputs": [],
   "source": [
    "def update_wf():\n",
    "    with wf_out:\n",
    "        clear_output()\n",
    "        btn_box.layout.display = 'none' # hide buttons\n",
    "            \n",
    "        node = wf_select.value\n",
    "        if not node:\n",
    "            print(\"no selection\")\n",
    "            return\n",
    "\n",
    "        progress.value = 1\n",
    "        progress.layout.display = None # show progress bar\n",
    "        \n",
    "        print(\"NODE:\")\n",
    "        print(\"  PK: %s\"%node.pk)\n",
    "        print(\"  Class: %s\"%node.get_attr('_process_label'))\n",
    "\n",
    "        if \"thumbnail\" in node.get_extras():\n",
    "            print(\"\\n\\nSTRUCTURE:\")\n",
    "            display(Image(data=b64decode(node.get_extra(\"thumbnail\"))))\n",
    "        progress.value = 5\n",
    "                \n",
    "        print(\"\\n\\nINPUTS:\")\n",
    "        for k, v in node.get_inputs_dict().items():\n",
    "            print(\"  %s: %s\"%(k,v))\n",
    "        \n",
    "        print(\"\\n\\nEXTRAS:\")\n",
    "        for k, v in node.get_extras().items():\n",
    "            if k != \"thumbnail\":\n",
    "                print(\"  %s: %s\"%(k,v))\n",
    "        progress.value = 10\n",
    "        \n",
    "        print(\"\\n\\nREPORT:\")\n",
    "        ! verdi work report $node.pk\n",
    "        progress.value = 40\n",
    "        \n",
    "        print(\"\\n\\nTREE:\")\n",
    "        ! verdi work tree --node-label label $node.pk\n",
    "        progress.value = 70\n",
    "        \n",
    "        print(\"\\n\\nSTATE:\")\n",
    "        ! verdi work tree --node-label state $node.pk\n",
    "        progress.value = 100\n",
    "        progress.layout.display = 'none' # hide progress bar\n",
    "        \n",
    "        # enable buttons if applicable\n",
    "        failed = not node.get_extra(\"preprocess_successful\", False)\n",
    "        btn_toggle_resub.disabled = not failed\n",
    "        btn_resub.disabled = not failed\n",
    "        btn_kill.disabled = node.is_sealed\n",
    "        btn_box.layout.display = None # show buttons"
   ]
  },
  {
   "cell_type": "code",
   "execution_count": null,
   "metadata": {
    "scrolled": false
   },
   "outputs": [],
   "source": [
    "def kill_wf(wf):\n",
    "    if not wf.is_sealed:\n",
    "        wf._set_attr('_aborted', True)\n",
    "\n",
    "    for child in wf.get_outputs(link_type=LinkType.CALL):\n",
    "        if not child.has_finished():\n",
    "            print(\"Killing: PK=%d\"%child.pk)\n",
    "            child.kill()"
   ]
  },
  {
   "cell_type": "code",
   "execution_count": null,
   "metadata": {
    "scrolled": false
   },
   "outputs": [],
   "source": [
    "def resubmit_wf(wf):\n",
    "    wfclass = eval(wf.get_attr('_process_label')) # requires prev import of class\n",
    "    wfinps = wf.get_inputs_dict()\n",
    "    \n",
    "    outputs = submit(wfclass, **wfinps)\n",
    "    print(outputs) \n",
    "    wf.set_extra('resubmitted', True)"
   ]
  },
  {
   "cell_type": "code",
   "execution_count": null,
   "metadata": {
    "scrolled": false
   },
   "outputs": [],
   "source": [
    "update_search()"
   ]
  }
 ],
 "metadata": {
  "kernelspec": {
   "display_name": "Python 2",
   "language": "python",
   "name": "python2"
  },
  "language_info": {
   "codemirror_mode": {
    "name": "ipython",
    "version": 2
   },
   "file_extension": ".py",
   "mimetype": "text/x-python",
   "name": "python",
   "nbconvert_exporter": "python",
   "pygments_lexer": "ipython2",
   "version": "2.7.13"
  }
 },
 "nbformat": 4,
 "nbformat_minor": 2
}
