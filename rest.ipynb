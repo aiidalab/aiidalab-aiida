{
 "cells": [
  {
   "cell_type": "markdown",
   "metadata": {},
   "source": [
    "# AiiDA Status"
   ]
  },
  {
   "cell_type": "code",
   "execution_count": null,
   "metadata": {
    "scrolled": false
   },
   "outputs": [],
   "source": [
    "from __future__ import print_function\n",
    "\n",
    "from IPython.display import display, clear_output\n",
    "import ipywidgets as ipw\n",
    "import multiprocessing\n",
    "from urllib2 import urlopen"
   ]
  },
  {
   "cell_type": "code",
   "execution_count": null,
   "metadata": {},
   "outputs": [],
   "source": [
    "# starting/stopping AiiDA REST API\n",
    "def toggle_btn(b):\n",
    "    global started, proc\n",
    "    started = not started\n",
    "\n",
    "    if started:\n",
    "        btn_rest.description = \"Stop REST API\"\n",
    "        #from aiida.cmdline.commands.restapi import Restapi        \n",
    "        #proc = multiprocessing.Process(target=Restapi().run)\n",
    "        proc = multiprocessing.Process(target=start_rest)\n",
    "        with info_out:\n",
    "            clear_output()\n",
    "            print(\"Started REST API\")\n",
    "            proc.start()\n",
    "    else:\n",
    "        btn_rest.description = \"Start REST API\"        \n",
    "        proc.terminate()\n",
    "        with info_out:\n",
    "            clear_output()\n",
    "            print(\"Stopped REST API\")\n",
    "\n",
    "def start_rest():\n",
    "    ! verdi restapi\n",
    "\n",
    "\n",
    "proc = None\n",
    "started = False\n",
    "\n",
    "btn_rest = ipw.Button(description=\"Start REST API\")\n",
    "btn_rest.on_click(toggle_btn)\n",
    "info_out = ipw.Output()\n",
    "\n",
    "display(ipw.HBox([btn_rest, info_out]))"
   ]
  },
  {
   "cell_type": "code",
   "execution_count": null,
   "metadata": {},
   "outputs": [],
   "source": [
    "# testing REST endpoints\n",
    "\n",
    "def request(b):\n",
    "    with test_out:\n",
    "        clear_output()\n",
    "        print(\"GET {}\".format(btn_url.value))\n",
    "        response = urlopen(btn_url.value)\n",
    "        print(response.read())\n",
    "\n",
    "btn_url = ipw.Text(layout=ipw.Layout(width='40%'),\n",
    "                   value='http://127.0.0.1:5000/api/v2/server/endpoints')\n",
    "btn_test = ipw.Button(description=\"Test URL\")\n",
    "btn_test.on_click(request)\n",
    "\n",
    "test_out = ipw.Output()\n",
    "test_out.layout.border =\"2px solid black\"        \n",
    "\n",
    "display(ipw.HBox([btn_test, btn_url]), test_out)"
   ]
  }
 ],
 "metadata": {
  "kernelspec": {
   "display_name": "Python 2",
   "language": "python",
   "name": "python2"
  },
  "language_info": {
   "codemirror_mode": {
    "name": "ipython",
    "version": 2
   },
   "file_extension": ".py",
   "mimetype": "text/x-python",
   "name": "python",
   "nbconvert_exporter": "python",
   "pygments_lexer": "ipython2",
   "version": "2.7.14"
  }
 },
 "nbformat": 4,
 "nbformat_minor": 2
}
