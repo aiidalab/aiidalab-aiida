{
 "cells": [
  {
   "cell_type": "code",
   "execution_count": null,
   "metadata": {},
   "outputs": [],
   "source": [
    "from aiida import load_dbenv, is_dbenv_loaded\n",
    "from aiida.backends import settings\n",
    "if not is_dbenv_loaded():\n",
    "    load_dbenv(profile=settings.AIIDADB_PROFILE)\n",
    "    \n",
    "import ipywidgets as ipw\n",
    "from IPython.display import HTML, display, clear_output"
   ]
  },
  {
   "cell_type": "code",
   "execution_count": null,
   "metadata": {},
   "outputs": [],
   "source": [
    "def delete_nodes(b):\n",
    "    if not toggle_really.value:\n",
    "        with out:\n",
    "            clear_output()\n",
    "            print('I did not change your database.')\n",
    "        return\n",
    "    \n",
    "    from django.db import transaction\n",
    "    from django.db.models import Q\n",
    "    from aiida.backends.djsite.db import models\n",
    "    from aiida.orm import load_node\n",
    "\n",
    "    all_pks_to_delete = set([int(x) for x in text_pks.value.split(' ')])\n",
    "    with out:\n",
    "        clear_output()\n",
    "        print 'I will delete {} nodes: {}.'.format(len(all_pks_to_delete), str(all_pks_to_delete))\n",
    "\n",
    "    # Recover the list of folders to delete before actually deleting\n",
    "    # the nodes.  I will delete the folders only later, so that if\n",
    "    # there is a problem during the deletion of the nodes in\n",
    "    # the DB, I don't delete the folders\n",
    "    folders = [load_node(pk).folder for pk in all_pks_to_delete]\n",
    "\n",
    "    with transaction.atomic():\n",
    "        # Delete all links pointing to or from a given node\n",
    "        models.DbLink.objects.filter(\n",
    "            Q(input__in=all_pks_to_delete) |\n",
    "            Q(output__in=all_pks_to_delete)).delete()\n",
    "        # now delete nodes\n",
    "        models.DbNode.objects.filter(pk__in=all_pks_to_delete).delete()\n",
    "\n",
    "    # If we are here, we managed to delete the entries from the DB.\n",
    "    # I can now delete the folders\n",
    "    for f in folders:\n",
    "        f.erase()\n",
    "        \n",
    "    with out:\n",
    "        clear_output()\n",
    "        print('All done.')"
   ]
  },
  {
   "cell_type": "markdown",
   "metadata": {},
   "source": [
    "# Delete nodes"
   ]
  },
  {
   "cell_type": "code",
   "execution_count": null,
   "metadata": {},
   "outputs": [],
   "source": [
    "html = '''\n",
    "<style>\n",
    "#dontdoit {\n",
    "    border: 3px solid #962d22;\n",
    "    background: rgba(192, 57, 43, 0.9);\n",
    "    padding: 1em;\n",
    "    font-size: 1.2em;\n",
    "    font-weight: bold;\n",
    "    color: #fafafa;\n",
    "    text-align: center;\n",
    "}\n",
    "</style>\n",
    "<div id=\"dontdoit\">\n",
    "    Deleting nodes can break provenance and create orphans.\n",
    "    Continue only, if you are absolutely sure you know what you are doing! \n",
    "</div>\n",
    "'''\n",
    "display(HTML(html))\n",
    "\n",
    "style = {'description_width': '120px'}\n",
    "layout = {'width': '50%'}\n",
    "text_pks = ipw.Text(description='Nodes to delete',\n",
    "                    placeholder='1 2 100 10051',\n",
    "                    layout=layout, style=style)\n",
    "toggle_really = ipw.Checkbox(description=\"I know I shouldn't do this.\",\n",
    "                                 layout=layout, style=style)\n",
    "button_delete = ipw.Button(description=\"Do it!\",\n",
    "                           layout=layout, style=style)\n",
    "button_delete.on_click(delete_nodes)\n",
    "display(ipw.VBox([text_pks, toggle_really, button_delete]))\n",
    "\n",
    "out = ipw.Output()\n",
    "display(out)"
   ]
  }
 ],
 "metadata": {
  "kernelspec": {
   "display_name": "Python 2",
   "language": "python",
   "name": "python2"
  },
  "language_info": {
   "codemirror_mode": {
    "name": "ipython",
    "version": 2
   },
   "file_extension": ".py",
   "mimetype": "text/x-python",
   "name": "python",
   "nbconvert_exporter": "python",
   "pygments_lexer": "ipython2",
   "version": "2.7.13"
  }
 },
 "nbformat": 4,
 "nbformat_minor": 2
}
